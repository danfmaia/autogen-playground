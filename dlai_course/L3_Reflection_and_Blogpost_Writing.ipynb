{
 "cells": [
  {
   "cell_type": "markdown",
   "id": "fc3024e2",
   "metadata": {},
   "source": [
    "# Lesson 3: Reflection and Blogpost Writing"
   ]
  },
  {
   "cell_type": "markdown",
   "id": "3b0cc42f",
   "metadata": {},
   "source": [
    "## Setup"
   ]
  },
  {
   "cell_type": "code",
   "execution_count": 1,
   "id": "96d39be0-eaf3-456d-8613-ba21099ed36b",
   "metadata": {
    "height": 35
   },
   "outputs": [],
   "source": [
    "llm_config = {\"model\": \"gpt-3.5-turbo\"}"
   ]
  },
  {
   "cell_type": "markdown",
   "id": "0969e6bb",
   "metadata": {},
   "source": [
    "## The task!"
   ]
  },
  {
   "cell_type": "code",
   "execution_count": 2,
   "id": "e8074032-3690-4de9-ad08-ea8323cb441b",
   "metadata": {
    "height": 147
   },
   "outputs": [],
   "source": [
    "task = '''\n",
    "        Write a concise but engaging blogpost about\n",
    "       DeepLearning.AI. Make sure the blogpost is\n",
    "       within 100 words.\n",
    "       '''\n"
   ]
  },
  {
   "cell_type": "markdown",
   "id": "1987f023",
   "metadata": {},
   "source": [
    "## Create a writer agent"
   ]
  },
  {
   "cell_type": "code",
   "execution_count": 3,
   "id": "fe0f0a47-a9fe-43a0-b7b1-79922e4c4ac8",
   "metadata": {
    "height": 225
   },
   "outputs": [],
   "source": [
    "import autogen\n",
    "\n",
    "writer = autogen.AssistantAgent(\n",
    "    name=\"Writer\",\n",
    "    system_message=\"You are a writer. You write engaging and concise \" \n",
    "        \"blogpost (with title) on given topics. You must polish your \"\n",
    "        \"writing based on the feedback you receive and give a refined \"\n",
    "        \"version. Only return your final work without additional comments.\",\n",
    "    llm_config=llm_config,\n",
    ")"
   ]
  },
  {
   "cell_type": "code",
   "execution_count": 4,
   "id": "7c7b4d8d-40f7-4a05-8958-25d20054de3a",
   "metadata": {
    "height": 49
   },
   "outputs": [],
   "source": [
    "reply = writer.generate_reply(messages=[{\"content\": task, \"role\": \"user\"}])"
   ]
  },
  {
   "cell_type": "code",
   "execution_count": 5,
   "id": "c501c97d-e338-4f36-a384-6ec45983cf77",
   "metadata": {
    "height": 35
   },
   "outputs": [
    {
     "name": "stdout",
     "output_type": "stream",
     "text": [
      "Title: Unveiling the Power of DeepLearning.AI\n",
      "\n",
      "Embark on a journey into the realm of artificial intelligence with DeepLearning.AI. This online platform offers a gateway to understanding and mastering the complexities of deep learning. From beginners to experts, DeepLearning.AI provides courses curated by industry professionals like Andrew Ng. Dive into the world of neural networks, computer vision, and natural language processing. Elevate your skills, advance your career, and be at the forefront of technological innovation. Join a global community of learners and unravel the mysteries of AI with DeepLearning.AI. The future is now - are you ready to shape it?\n"
     ]
    }
   ],
   "source": [
    "print(reply)"
   ]
  },
  {
   "cell_type": "markdown",
   "id": "49658114",
   "metadata": {},
   "source": [
    "## Adding reflection \n",
    "\n",
    "Create a critic agent to reflect on the work of the writer agent."
   ]
  },
  {
   "cell_type": "code",
   "execution_count": 6,
   "id": "c7fcd1c7-51ec-4915-8e97-bac03565c4c7",
   "metadata": {
    "height": 186
   },
   "outputs": [],
   "source": [
    "critic = autogen.AssistantAgent(\n",
    "    name=\"Critic\",\n",
    "    is_termination_msg=lambda x: x.get(\"content\", \"\").find(\"TERMINATE\") >= 0,\n",
    "    llm_config=llm_config,\n",
    "    system_message=\"You are a critic. You review the work of \"\n",
    "                \"the writer and provide constructive \"\n",
    "                \"feedback to help improve the quality of the content.\",\n",
    ")"
   ]
  },
  {
   "cell_type": "code",
   "execution_count": 7,
   "id": "899d5fdb-6081-470b-b287-8cf8b8142d0d",
   "metadata": {
    "height": 133
   },
   "outputs": [
    {
     "name": "stdout",
     "output_type": "stream",
     "text": [
      "\u001b[33mCritic\u001b[0m (to Writer):\n",
      "\n",
      "\n",
      "        Write a concise but engaging blogpost about\n",
      "       DeepLearning.AI. Make sure the blogpost is\n",
      "       within 100 words.\n",
      "       \n",
      "\n",
      "--------------------------------------------------------------------------------\n",
      "\u001b[33mWriter\u001b[0m (to Critic):\n",
      "\n",
      "Title: Unveiling the Power of DeepLearning.AI\n",
      "\n",
      "Embark on a journey into the realm of artificial intelligence with DeepLearning.AI. This online platform offers a gateway to understanding and mastering the complexities of deep learning. From beginners to experts, DeepLearning.AI provides courses curated by industry professionals like Andrew Ng. Dive into the world of neural networks, computer vision, and natural language processing. Elevate your skills, advance your career, and be at the forefront of technological innovation. Join a global community of learners and unravel the mysteries of AI with DeepLearning.AI. The future is now - are you ready to shape it?\n",
      "\n",
      "--------------------------------------------------------------------------------\n",
      "\u001b[33mCritic\u001b[0m (to Writer):\n",
      "\n",
      "Your blog post is engaging and concise, effectively capturing the essence of DeepLearning.AI. You've done a great job of highlighting the platform's key features and benefits in a captivating manner. To enhance the post further, consider adding specific examples or anecdotes from individuals who have benefited from DeepLearning.AI courses. Additionally, including statistics or data on the platform's success rates or user testimonials can provide credibility and further entice readers to explore DeepLearning.AI. Overall, your writing style is compelling, and with these additions, you can create an even more impactful blog post. Well done!\n",
      "\n",
      "--------------------------------------------------------------------------------\n",
      "\u001b[33mWriter\u001b[0m (to Critic):\n",
      "\n",
      "Title: Unleashing the Potential of DeepLearning.AI\n",
      "\n",
      "Journey through the boundless world of artificial intelligence with DeepLearning.AI, where Andrew Ng and industry experts guide you towards mastery. From neural networks to computer vision, unlock the secrets of deep learning. Meet like-minded learners globally, enhance your skills, and lead technological advancements. Dive into user testimonials showcasing career transformations and real-world applications. With a success rate worth boasting and data-driven insights, DeepLearning.AI stands as a beacon of innovation. Shape the future of AI – embrace the transformative power of DeepLearning.AI today.\n",
      "\n",
      "--------------------------------------------------------------------------------\n"
     ]
    }
   ],
   "source": [
    "res = critic.initiate_chat(\n",
    "    recipient=writer,\n",
    "    message=task,\n",
    "    max_turns=2,\n",
    "    summary_method=\"last_msg\"\n",
    ")"
   ]
  },
  {
   "cell_type": "markdown",
   "id": "e7b76449",
   "metadata": {},
   "source": [
    "## Nested chat"
   ]
  },
  {
   "cell_type": "code",
   "execution_count": 8,
   "id": "401ecf92-63e9-40ff-aeed-1c404352e4ab",
   "metadata": {
    "height": 244
   },
   "outputs": [],
   "source": [
    "SEO_reviewer = autogen.AssistantAgent(\n",
    "    name=\"SEO Reviewer\",\n",
    "    llm_config=llm_config,\n",
    "    system_message=\"You are an SEO reviewer, known for \"\n",
    "        \"your ability to optimize content for search engines, \"\n",
    "        \"ensuring that it ranks well and attracts organic traffic. \" \n",
    "        \"Make sure your suggestion is concise (within 3 bullet points), \"\n",
    "        \"concrete and to the point. \"\n",
    "        \"Begin the review by stating your role.\",\n",
    ")\n"
   ]
  },
  {
   "cell_type": "code",
   "execution_count": 9,
   "id": "f85acb81-7ab9-4c84-b8bb-6fbae3dce848",
   "metadata": {
    "height": 225
   },
   "outputs": [],
   "source": [
    "legal_reviewer = autogen.AssistantAgent(\n",
    "    name=\"Legal Reviewer\",\n",
    "    llm_config=llm_config,\n",
    "    system_message=\"You are a legal reviewer, known for \"\n",
    "        \"your ability to ensure that content is legally compliant \"\n",
    "        \"and free from any potential legal issues. \"\n",
    "        \"Make sure your suggestion is concise (within 3 bullet points), \"\n",
    "        \"concrete and to the point. \"\n",
    "        \"Begin the review by stating your role.\",\n",
    ")"
   ]
  },
  {
   "cell_type": "code",
   "execution_count": 10,
   "id": "d46a177a-8088-4956-8d2b-3e916b8ca5e9",
   "metadata": {
    "height": 225
   },
   "outputs": [],
   "source": [
    "ethics_reviewer = autogen.AssistantAgent(\n",
    "    name=\"Ethics Reviewer\",\n",
    "    llm_config=llm_config,\n",
    "    system_message=\"You are an ethics reviewer, known for \"\n",
    "        \"your ability to ensure that content is ethically sound \"\n",
    "        \"and free from any potential ethical issues. \" \n",
    "        \"Make sure your suggestion is concise (within 3 bullet points), \"\n",
    "        \"concrete and to the point. \"\n",
    "        \"Begin the review by stating your role. \",\n",
    ")"
   ]
  },
  {
   "cell_type": "code",
   "execution_count": 11,
   "id": "a7b2ad6f-8ba6-436a-9459-14ffbe8a32d3",
   "metadata": {
    "height": 147
   },
   "outputs": [],
   "source": [
    "meta_reviewer = autogen.AssistantAgent(\n",
    "    name=\"Meta Reviewer\",\n",
    "    llm_config=llm_config,\n",
    "    system_message=\"You are a meta reviewer, you aggragate and review \"\n",
    "    \"the work of other reviewers and give a final suggestion on the content.\",\n",
    ")"
   ]
  },
  {
   "cell_type": "markdown",
   "id": "913beca1",
   "metadata": {},
   "source": [
    "## Orchestrate the nested chats to solve the task"
   ]
  },
  {
   "cell_type": "code",
   "execution_count": 12,
   "id": "a11a70c7-19ca-4e5a-ad3d-f2b481fb5915",
   "metadata": {
    "height": 636
   },
   "outputs": [],
   "source": [
    "def reflection_message(recipient, messages, sender, config):\n",
    "    return f'''Review the following content. \n",
    "            \\n\\n {recipient.chat_messages_for_summary(sender)[-1]['content']}'''\n",
    "\n",
    "review_chats = [\n",
    "    {\n",
    "     \"recipient\": SEO_reviewer, \n",
    "     \"message\": reflection_message, \n",
    "     \"summary_method\": \"reflection_with_llm\",\n",
    "     \"summary_args\": {\"summary_prompt\" : \n",
    "        \"Return review into as JSON object only:\"\n",
    "        \"{'Reviewer': '', 'Review': ''}. Here Reviewer should be your role\",},\n",
    "     \"max_turns\": 1},\n",
    "    {\n",
    "    \"recipient\": legal_reviewer, \"message\": reflection_message, \n",
    "     \"summary_method\": \"reflection_with_llm\",\n",
    "     \"summary_args\": {\"summary_prompt\" : \n",
    "        \"Return review into as JSON object only:\"\n",
    "        \"{'Reviewer': '', 'Review': ''}.\",},\n",
    "     \"max_turns\": 1},\n",
    "    {\"recipient\": ethics_reviewer, \"message\": reflection_message, \n",
    "     \"summary_method\": \"reflection_with_llm\",\n",
    "     \"summary_args\": {\"summary_prompt\" : \n",
    "        \"Return review into as JSON object only:\"\n",
    "        \"{'reviewer': '', 'review': ''}\",},\n",
    "     \"max_turns\": 1},\n",
    "     {\"recipient\": meta_reviewer, \n",
    "      \"message\": \"Aggregrate feedback from all reviewers and give final suggestions on the writing.\", \n",
    "     \"max_turns\": 1},\n",
    "]\n"
   ]
  },
  {
   "cell_type": "code",
   "execution_count": 13,
   "id": "b3a40b66-5061-460d-ad9d-c0dbcfbba2e9",
   "metadata": {
    "height": 94
   },
   "outputs": [],
   "source": [
    "critic.register_nested_chats(\n",
    "    review_chats,\n",
    "    trigger=writer,\n",
    ")"
   ]
  },
  {
   "cell_type": "markdown",
   "id": "43b8797d",
   "metadata": {},
   "source": [
    "**Note**: You might get a slightly different response than what's shown in the video. Feel free to try different task."
   ]
  },
  {
   "cell_type": "code",
   "execution_count": 14,
   "id": "3b8dcac3-1e72-43b7-9d5a-1be740f6efd5",
   "metadata": {
    "height": 133
   },
   "outputs": [
    {
     "name": "stdout",
     "output_type": "stream",
     "text": [
      "\u001b[33mCritic\u001b[0m (to Writer):\n",
      "\n",
      "\n",
      "        Write a concise but engaging blogpost about\n",
      "       DeepLearning.AI. Make sure the blogpost is\n",
      "       within 100 words.\n",
      "       \n",
      "\n",
      "--------------------------------------------------------------------------------\n",
      "\u001b[33mWriter\u001b[0m (to Critic):\n",
      "\n",
      "Title: Unveiling the Power of DeepLearning.AI\n",
      "\n",
      "Embark on a journey into the realm of artificial intelligence with DeepLearning.AI. This online platform offers a gateway to understanding and mastering the complexities of deep learning. From beginners to experts, DeepLearning.AI provides courses curated by industry professionals like Andrew Ng. Dive into the world of neural networks, computer vision, and natural language processing. Elevate your skills, advance your career, and be at the forefront of technological innovation. Join a global community of learners and unravel the mysteries of AI with DeepLearning.AI. The future is now - are you ready to shape it?\n",
      "\n",
      "--------------------------------------------------------------------------------\n",
      "\u001b[34m\n",
      "********************************************************************************\u001b[0m\n",
      "\u001b[34mStarting a new chat....\u001b[0m\n",
      "\u001b[34m\n",
      "********************************************************************************\u001b[0m\n",
      "\u001b[33mCritic\u001b[0m (to SEO Reviewer):\n",
      "\n",
      "Review the following content. \n",
      "            \n",
      "\n",
      " Title: Unveiling the Power of DeepLearning.AI\n",
      "\n",
      "Embark on a journey into the realm of artificial intelligence with DeepLearning.AI. This online platform offers a gateway to understanding and mastering the complexities of deep learning. From beginners to experts, DeepLearning.AI provides courses curated by industry professionals like Andrew Ng. Dive into the world of neural networks, computer vision, and natural language processing. Elevate your skills, advance your career, and be at the forefront of technological innovation. Join a global community of learners and unravel the mysteries of AI with DeepLearning.AI. The future is now - are you ready to shape it?\n",
      "\n",
      "--------------------------------------------------------------------------------\n",
      "\u001b[33mSEO Reviewer\u001b[0m (to Critic):\n",
      "\n",
      "As an SEO reviewer:\n",
      "\n",
      "- Consider incorporating relevant keywords like \"artificial intelligence courses\", \"deep learning online platform\", and \"Andrew Ng\" to enhance search engine visibility.\n",
      "  \n",
      "- Add meta title and meta description tags with targeted keywords for better search engine optimization.\n",
      "  \n",
      "- Utilize heading tags (H1, H2, etc.) to structure content and highlight key topics such as neural networks, computer vision, and natural language processing for improved search rankings.\n",
      "\n",
      "--------------------------------------------------------------------------------\n",
      "\u001b[34m\n",
      "********************************************************************************\u001b[0m\n",
      "\u001b[34mStarting a new chat....\u001b[0m\n",
      "\u001b[34m\n",
      "********************************************************************************\u001b[0m\n",
      "\u001b[33mCritic\u001b[0m (to Legal Reviewer):\n",
      "\n",
      "Review the following content. \n",
      "            \n",
      "\n",
      " Title: Unveiling the Power of DeepLearning.AI\n",
      "\n",
      "Embark on a journey into the realm of artificial intelligence with DeepLearning.AI. This online platform offers a gateway to understanding and mastering the complexities of deep learning. From beginners to experts, DeepLearning.AI provides courses curated by industry professionals like Andrew Ng. Dive into the world of neural networks, computer vision, and natural language processing. Elevate your skills, advance your career, and be at the forefront of technological innovation. Join a global community of learners and unravel the mysteries of AI with DeepLearning.AI. The future is now - are you ready to shape it?\n",
      "Context: \n",
      "{'Reviewer': 'SEO Reviewer', 'Review': '- Consider incorporating relevant keywords like \"artificial intelligence courses\", \"deep learning online platform\", and \"Andrew Ng\" to enhance search engine visibility.\\n- Add meta title and meta description tags with targeted keywords for better search engine optimization.\\n- Utilize heading tags (H1, H2, etc.) to structure content and highlight key topics such as neural networks, computer vision, and natural language processing for improved search rankings.'}\n",
      "\n",
      "--------------------------------------------------------------------------------\n",
      "\u001b[33mLegal Reviewer\u001b[0m (to Critic):\n",
      "\n",
      "As a Legal Reviewer:\n",
      "\n",
      "- Ensure compliance with advertising and marketing laws: Verify that all claims made about DeepLearning.AI are truthful and substantiated. Avoid any misleading statements or false representations.\n",
      "- Copyright and trademark considerations: Confirm that the content does not infringe on any copyrights or trademarks, especially when mentioning industry professionals like Andrew Ng or using terms like \"artificial intelligence.\"\n",
      "- Privacy and data protection: If the platform collects any personal information from users, ensure that it complies with data protection laws and clearly communicates its privacy practices in a transparent manner.\n",
      "\n",
      "--------------------------------------------------------------------------------\n",
      "\u001b[34m\n",
      "********************************************************************************\u001b[0m\n",
      "\u001b[34mStarting a new chat....\u001b[0m\n",
      "\u001b[34m\n",
      "********************************************************************************\u001b[0m\n",
      "\u001b[33mCritic\u001b[0m (to Ethics Reviewer):\n",
      "\n",
      "Review the following content. \n",
      "            \n",
      "\n",
      " Title: Unveiling the Power of DeepLearning.AI\n",
      "\n",
      "Embark on a journey into the realm of artificial intelligence with DeepLearning.AI. This online platform offers a gateway to understanding and mastering the complexities of deep learning. From beginners to experts, DeepLearning.AI provides courses curated by industry professionals like Andrew Ng. Dive into the world of neural networks, computer vision, and natural language processing. Elevate your skills, advance your career, and be at the forefront of technological innovation. Join a global community of learners and unravel the mysteries of AI with DeepLearning.AI. The future is now - are you ready to shape it?\n",
      "Context: \n",
      "{'Reviewer': 'SEO Reviewer', 'Review': '- Consider incorporating relevant keywords like \"artificial intelligence courses\", \"deep learning online platform\", and \"Andrew Ng\" to enhance search engine visibility.\\n- Add meta title and meta description tags with targeted keywords for better search engine optimization.\\n- Utilize heading tags (H1, H2, etc.) to structure content and highlight key topics such as neural networks, computer vision, and natural language processing for improved search rankings.'}\n",
      "{'Reviewer': 'SEO Reviewer', 'Review': '- Consider incorporating relevant keywords like \"artificial intelligence courses\", \"deep learning online platform\", and \"Andrew Ng\" to enhance search engine visibility.\\n- Add meta title and meta description tags with targeted keywords for better search engine optimization.\\n- Utilize heading tags (H1, H2, etc.) to structure content and highlight key topics such as neural networks, computer vision, and natural language processing for improved search rankings.'}\n",
      "\n",
      "--------------------------------------------------------------------------------\n",
      "\u001b[33mEthics Reviewer\u001b[0m (to Critic):\n",
      "\n",
      "As an ethics reviewer, here are some suggestions for the review content:\n",
      "\n",
      "- Ensure that the promotion of the DeepLearning.AI platform is transparent and accurately represents the nature of the courses offered.\n",
      "- Avoid making exaggerated claims about the guaranteed outcomes or benefits of participating in the courses to manage learner expectations responsibly.\n",
      "- Disclose any potential conflicts of interest, such as affiliations with the platform or its instructors, to maintain impartiality and credibility.\n",
      "\n",
      "--------------------------------------------------------------------------------\n",
      "\u001b[34m\n",
      "********************************************************************************\u001b[0m\n",
      "\u001b[34mStarting a new chat....\u001b[0m\n",
      "\u001b[34m\n",
      "********************************************************************************\u001b[0m\n",
      "\u001b[33mCritic\u001b[0m (to Meta Reviewer):\n",
      "\n",
      "Aggregrate feedback from all reviewers and give final suggestions on the writing.\n",
      "Context: \n",
      "{'Reviewer': 'SEO Reviewer', 'Review': '- Consider incorporating relevant keywords like \"artificial intelligence courses\", \"deep learning online platform\", and \"Andrew Ng\" to enhance search engine visibility.\\n- Add meta title and meta description tags with targeted keywords for better search engine optimization.\\n- Utilize heading tags (H1, H2, etc.) to structure content and highlight key topics such as neural networks, computer vision, and natural language processing for improved search rankings.'}\n",
      "{'Reviewer': 'SEO Reviewer', 'Review': '- Consider incorporating relevant keywords like \"artificial intelligence courses\", \"deep learning online platform\", and \"Andrew Ng\" to enhance search engine visibility.\\n- Add meta title and meta description tags with targeted keywords for better search engine optimization.\\n- Utilize heading tags (H1, H2, etc.) to structure content and highlight key topics such as neural networks, computer vision, and natural language processing for improved search rankings.'}\n",
      "{'reviewer': 'SEO Reviewer', 'review': '- Consider incorporating relevant keywords like \"artificial intelligence courses\", \"deep learning online platform\", and \"Andrew Ng\" to enhance search engine visibility.\\n- Add meta title and meta description tags with targeted keywords for better search engine optimization.\\n- Utilize heading tags (H1, H2, etc.) to structure content and highlight key topics such as neural networks, computer vision, and natural language processing for improved search rankings.'}\n"
     ]
    },
    {
     "name": "stdout",
     "output_type": "stream",
     "text": [
      "\n",
      "--------------------------------------------------------------------------------\n",
      "\u001b[33mMeta Reviewer\u001b[0m (to Critic):\n",
      "\n",
      "Aggregating feedback from all SEO Reviewers, the following key points emerge:\n",
      "- Incorporate relevant keywords like \"artificial intelligence courses\", \"deep learning online platform\", and \"Andrew Ng\" for enhanced search engine visibility.\n",
      "- Add meta title and description tags with targeted keywords for better search engine optimization.\n",
      "- Utilize heading tags (H1, H2, etc.) to structure content and highlight key topics such as neural networks, computer vision, and natural language processing for improved search rankings.\n",
      "\n",
      "Final Suggestions:\n",
      "1. Enhance the use of keywords throughout the content to improve SEO.\n",
      "2. Implement meta title and description tags with targeted keywords for better optimization.\n",
      "3. Properly structure content with heading tags to highlight key topics to further boost search rankings.\n",
      "\n",
      "Overall, implementing these suggestions will likely improve the search engine visibility and optimization of the content related to artificial intelligence courses and deep learning platforms.\n",
      "\n",
      "--------------------------------------------------------------------------------\n",
      "\u001b[33mCritic\u001b[0m (to Writer):\n",
      "\n",
      "Aggregating feedback from all SEO Reviewers, the following key points emerge:\n",
      "- Incorporate relevant keywords like \"artificial intelligence courses\", \"deep learning online platform\", and \"Andrew Ng\" for enhanced search engine visibility.\n",
      "- Add meta title and description tags with targeted keywords for better search engine optimization.\n",
      "- Utilize heading tags (H1, H2, etc.) to structure content and highlight key topics such as neural networks, computer vision, and natural language processing for improved search rankings.\n",
      "\n",
      "Final Suggestions:\n",
      "1. Enhance the use of keywords throughout the content to improve SEO.\n",
      "2. Implement meta title and description tags with targeted keywords for better optimization.\n",
      "3. Properly structure content with heading tags to highlight key topics to further boost search rankings.\n",
      "\n",
      "Overall, implementing these suggestions will likely improve the search engine visibility and optimization of the content related to artificial intelligence courses and deep learning platforms.\n",
      "\n",
      "--------------------------------------------------------------------------------\n",
      "\u001b[33mWriter\u001b[0m (to Critic):\n",
      "\n",
      "Title: Mastering Artificial Intelligence Courses with DeepLearning.AI\n",
      "\n",
      "Unlock the potential of artificial intelligence courses with DeepLearning.AI, a leading online platform founded by renowned expert Andrew Ng. Dive into neural networks, computer vision, and natural language processing through expert-led courses. Join a global community of learners to shape the future of technology. Whether you're a beginner or seasoned professional, DeepLearning.AI offers a pathway to advance your skills and career in AI. Discover the power of deep learning and stay ahead in this rapidly evolving field. Start your journey with DeepLearning.AI today.\n",
      "\n",
      "--------------------------------------------------------------------------------\n"
     ]
    }
   ],
   "source": [
    "res = critic.initiate_chat(\n",
    "    recipient=writer,\n",
    "    message=task,\n",
    "    max_turns=2,\n",
    "    summary_method=\"last_msg\"\n",
    ")"
   ]
  },
  {
   "cell_type": "markdown",
   "id": "c5c833b0",
   "metadata": {},
   "source": [
    "## Get the summary"
   ]
  },
  {
   "cell_type": "code",
   "execution_count": 15,
   "id": "68ef82ed-f102-4964-b7be-60e2f258a39b",
   "metadata": {
    "height": 35
   },
   "outputs": [
    {
     "name": "stdout",
     "output_type": "stream",
     "text": [
      "Title: Mastering Artificial Intelligence Courses with DeepLearning.AI\n",
      "\n",
      "Unlock the potential of artificial intelligence courses with DeepLearning.AI, a leading online platform founded by renowned expert Andrew Ng. Dive into neural networks, computer vision, and natural language processing through expert-led courses. Join a global community of learners to shape the future of technology. Whether you're a beginner or seasoned professional, DeepLearning.AI offers a pathway to advance your skills and career in AI. Discover the power of deep learning and stay ahead in this rapidly evolving field. Start your journey with DeepLearning.AI today.\n"
     ]
    }
   ],
   "source": [
    "print(res.summary)"
   ]
  }
 ],
 "metadata": {
  "kernelspec": {
   "display_name": "Python 3 (ipykernel)",
   "language": "python",
   "name": "python3"
  },
  "language_info": {
   "codemirror_mode": {
    "name": "ipython",
    "version": 3
   },
   "file_extension": ".py",
   "mimetype": "text/x-python",
   "name": "python",
   "nbconvert_exporter": "python",
   "pygments_lexer": "ipython3",
   "version": "3.11.9"
  }
 },
 "nbformat": 4,
 "nbformat_minor": 5
}
